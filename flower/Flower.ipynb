{
 "cells": [
  {
   "cell_type": "code",
   "execution_count": 2,
   "metadata": {},
   "outputs": [],
   "source": [
    "import numpy as np\n",
    "import pandas as pd\n",
    "import cv2\n",
    "import matplotlib.pyplot as plt\n",
    "from PIL import Image\n",
    "from tensorflow.keras import layers\n",
    "from tensorflow.keras.preprocessing.image import ImageDataGenerator, load_img\n",
    "from tensorflow.keras.models import Sequential\n",
    "from tensorflow.keras.layers import Conv2D, MaxPooling2D\n",
    "from tensorflow.keras.layers import Activation, Dropout, Flatten, Dense\n",
    "from tensorflow.keras.optimizers import Adam\n",
    "import tensorflow as tf\n",
    "import os\n"
   ]
  },
  {
   "cell_type": "code",
   "execution_count": 3,
   "metadata": {},
   "outputs": [],
   "source": [
    "import os\n",
    "import shutil\n",
    "from sklearn.model_selection import train_test_split\n",
    "import pandas as pd\n",
    "import pandas as pd\n",
    "import warnings\n",
    "warnings.filterwarnings(\"ignore\")"
   ]
  },
  {
   "cell_type": "code",
   "execution_count": 4,
   "metadata": {},
   "outputs": [],
   "source": [
    "dataset_path = r\"C:\\Users\\W10\\Desktop\\Yeni klasör\\flower_photos\""
   ]
  },
  {
   "cell_type": "code",
   "execution_count": 5,
   "metadata": {},
   "outputs": [],
   "source": [
    "# Set the path for the train and test folders\n",
    "train_path = os.path.join(dataset_path, \"train\")\n",
    "test_path = os.path.join(dataset_path, \"test\")\n",
    "\n",
    "# Create train and test folders if they don't exist\n",
    "if not os.path.exists(train_path):\n",
    "    os.makedirs(train_path)\n",
    "\n",
    "if not os.path.exists(test_path):\n",
    "    os.makedirs(test_path)\n",
    "\n",
    "# Loop through each category in the dataset\n",
    "for category in os.listdir(dataset_path):\n",
    "    category_path = os.path.join(dataset_path, category)\n",
    "\n",
    "    # Check if the category_path is a directory\n",
    "    if os.path.isdir(category_path):\n",
    "        # Get the image files in the category\n",
    "        category_images = [file for file in os.listdir(category_path) if file.endswith(\".jpg\")]\n",
    "        \n",
    "        # Check if there are sufficient images for splitting\n",
    "        if len(category_images) < 2:\n",
    "            continue\n",
    "        \n",
    "        # Split the images into train and test sets\n",
    "        train_images, test_images = train_test_split(category_images, test_size=0.2)\n",
    "\n",
    "        # Create subfolders in the train and test folders for the current category\n",
    "        train_category_path = os.path.join(train_path, category)\n",
    "        test_category_path = os.path.join(test_path, category)\n",
    "        os.makedirs(train_category_path, exist_ok=True)\n",
    "        os.makedirs(test_category_path, exist_ok=True)\n",
    "\n",
    "        # Move the images to their respective folders\n",
    "        for image in train_images:\n",
    "            shutil.copy2(os.path.join(category_path, image), os.path.join(train_category_path, image))\n",
    "\n",
    "        for image in test_images:\n",
    "            shutil.copy2(os.path.join(category_path, image), os.path.join(test_category_path, image))"
   ]
  },
  {
   "cell_type": "code",
   "execution_count": 6,
   "metadata": {},
   "outputs": [
    {
     "data": {
      "text/plain": [
       "['daisy', 'dandelion', 'roses', 'sunflowers', 'tulips']"
      ]
     },
     "execution_count": 6,
     "metadata": {},
     "output_type": "execute_result"
    }
   ],
   "source": [
    "os.listdir(train_path)"
   ]
  },
  {
   "cell_type": "code",
   "execution_count": 7,
   "metadata": {},
   "outputs": [],
   "source": [
    "train_ds = tf.keras.preprocessing.image_dataset_from_directory\n"
   ]
  },
  {
   "cell_type": "code",
   "execution_count": 8,
   "metadata": {},
   "outputs": [
    {
     "name": "stdout",
     "output_type": "stream",
     "text": [
      "Mean pixel value: [119.03959092 108.27779611  77.66961787]\n"
     ]
    }
   ],
   "source": [
    "import numpy as np\n",
    "import pathlib\n",
    "\n",
    "\n",
    "data_dir = pathlib.Path(r\"C:\\Users\\W10\\Desktop\\Yeni klasör\\flower_photos\")\n",
    "\n",
    "\n",
    "image_paths = list(data_dir.glob('*/*.jpg'))\n",
    "num_images = len(image_paths)\n",
    "\n",
    "\n",
    "num_pixels = 0\n",
    "pixel_sum = np.zeros(3)  # Assuming 3 channels (RGB)\n",
    "\n",
    "\n",
    "for image_path in image_paths:\n",
    "    image = tf.keras.preprocessing.image.load_img(image_path)\n",
    "    width, height = image.size\n",
    "    num_pixels += width * height\n",
    "\n",
    "    \n",
    "    image_array = tf.keras.preprocessing.image.img_to_array(image)\n",
    "\n",
    "   \n",
    "    pixel_sum += np.sum(image_array, axis=(0, 1))\n",
    "\n",
    "\n",
    "mean = pixel_sum / num_pixels\n",
    "\n",
    "print(\"Mean pixel value:\", mean)\n"
   ]
  },
  {
   "cell_type": "code",
   "execution_count": 9,
   "metadata": {},
   "outputs": [],
   "source": [
    "image_shape = (120,120,3)"
   ]
  },
  {
   "cell_type": "code",
   "execution_count": 10,
   "metadata": {},
   "outputs": [],
   "source": [
    "model = Sequential()\n",
    "\n",
    "model.add(Conv2D(filters=16, kernel_size=(3,3),input_shape=image_shape, padding='same', activation='relu',))\n",
    "model.add(Conv2D(filters=16, kernel_size=(3,3),input_shape=image_shape, padding='same', activation='relu',))\n",
    "model.add(MaxPooling2D(pool_size=(2, 2)))\n",
    "model.add(MaxPooling2D(pool_size=(2, 2)))\n",
    "\n",
    "\n",
    "\n",
    "model.add(Flatten())\n",
    "\n",
    "model.add(Dense(32, activation='relu'))\n",
    "model.add(Dense(5, activation='softmax'))\n",
    "\n",
    "\n",
    "model.compile(loss='categorical_crossentropy',\n",
    "              optimizer='adam',\n",
    "              metrics=['accuracy'])\n",
    "\n",
    "\n"
   ]
  },
  {
   "cell_type": "code",
   "execution_count": 11,
   "metadata": {},
   "outputs": [
    {
     "name": "stdout",
     "output_type": "stream",
     "text": [
      "Model: \"sequential\"\n",
      "_________________________________________________________________\n",
      " Layer (type)                Output Shape              Param #   \n",
      "=================================================================\n",
      " conv2d (Conv2D)             (None, 120, 120, 16)      448       \n",
      "                                                                 \n",
      " conv2d_1 (Conv2D)           (None, 120, 120, 16)      2320      \n",
      "                                                                 \n",
      " max_pooling2d (MaxPooling2D  (None, 60, 60, 16)       0         \n",
      " )                                                               \n",
      "                                                                 \n",
      " max_pooling2d_1 (MaxPooling  (None, 30, 30, 16)       0         \n",
      " 2D)                                                             \n",
      "                                                                 \n",
      " flatten (Flatten)           (None, 14400)             0         \n",
      "                                                                 \n",
      " dense (Dense)               (None, 32)                460832    \n",
      "                                                                 \n",
      " dense_1 (Dense)             (None, 5)                 165       \n",
      "                                                                 \n",
      "=================================================================\n",
      "Total params: 463,765\n",
      "Trainable params: 463,765\n",
      "Non-trainable params: 0\n",
      "_________________________________________________________________\n"
     ]
    }
   ],
   "source": [
    "model.summary()"
   ]
  },
  {
   "cell_type": "code",
   "execution_count": 12,
   "metadata": {},
   "outputs": [],
   "source": [
    "from tensorflow.keras.callbacks import EarlyStopping"
   ]
  },
  {
   "cell_type": "code",
   "execution_count": 13,
   "metadata": {},
   "outputs": [],
   "source": [
    "early_stop = EarlyStopping(monitor='val_loss',patience=5) "
   ]
  },
  {
   "cell_type": "code",
   "execution_count": 14,
   "metadata": {},
   "outputs": [],
   "source": [
    "\n",
    "image_gen = ImageDataGenerator(rotation_range=20, \n",
    "                               width_shift_range=0.10, \n",
    "                               height_shift_range=0.10, \n",
    "                               rescale=1.0/255.0, \n",
    "                               shear_range=0.10, \n",
    "                               zoom_range=0.10, \n",
    "                               horizontal_flip=True, \n",
    "                               fill_mode='nearest')\n"
   ]
  },
  {
   "cell_type": "code",
   "execution_count": 15,
   "metadata": {},
   "outputs": [
    {
     "name": "stdout",
     "output_type": "stream",
     "text": [
      "Found 2934 images belonging to 5 classes.\n",
      "Found 736 images belonging to 5 classes.\n"
     ]
    }
   ],
   "source": [
    "batch_size = 32\n",
    "train_image_gen = ImageDataGenerator(rescale=1./255)\n",
    "test_image_gen = ImageDataGenerator(rescale=1./255)\n",
    "\n",
    "train_data_gen = train_image_gen.flow_from_directory(train_path,\n",
    "                                                    target_size=(120, 120),\n",
    "                                                    color_mode='rgb',\n",
    "                                                    batch_size=batch_size,\n",
    "                                                    class_mode='categorical',\n",
    "                                                    shuffle=True)\n",
    "\n",
    "test_data_gen = test_image_gen.flow_from_directory(test_path,\n",
    "                                                  target_size=(120, 120),\n",
    "                                                  color_mode='rgb',\n",
    "                                                  batch_size=batch_size,\n",
    "                                                  class_mode='categorical',\n",
    "                                                  shuffle=True)"
   ]
  },
  {
   "cell_type": "code",
   "execution_count": 16,
   "metadata": {},
   "outputs": [
    {
     "name": "stdout",
     "output_type": "stream",
     "text": [
      "Epoch 1/20\n",
      "92/92 [==============================] - 25s 262ms/step - loss: 1.2949 - accuracy: 0.4461 - val_loss: 1.1736 - val_accuracy: 0.4905\n",
      "Epoch 2/20\n",
      "92/92 [==============================] - 23s 252ms/step - loss: 1.0173 - accuracy: 0.6145 - val_loss: 1.1233 - val_accuracy: 0.5380\n",
      "Epoch 3/20\n",
      "92/92 [==============================] - 22s 243ms/step - loss: 0.8689 - accuracy: 0.6769 - val_loss: 1.0531 - val_accuracy: 0.5625\n",
      "Epoch 4/20\n",
      "92/92 [==============================] - 22s 242ms/step - loss: 0.7594 - accuracy: 0.7130 - val_loss: 1.0544 - val_accuracy: 0.5856\n",
      "Epoch 5/20\n",
      "92/92 [==============================] - 22s 241ms/step - loss: 0.6588 - accuracy: 0.7584 - val_loss: 1.0357 - val_accuracy: 0.6101\n",
      "Epoch 6/20\n",
      "92/92 [==============================] - 22s 241ms/step - loss: 0.5038 - accuracy: 0.8323 - val_loss: 1.0450 - val_accuracy: 0.6345\n",
      "Epoch 7/20\n",
      "92/92 [==============================] - 22s 240ms/step - loss: 0.3861 - accuracy: 0.8688 - val_loss: 1.0845 - val_accuracy: 0.6005\n",
      "Epoch 8/20\n",
      "92/92 [==============================] - 22s 240ms/step - loss: 0.2729 - accuracy: 0.9209 - val_loss: 1.1350 - val_accuracy: 0.6590\n",
      "Epoch 9/20\n",
      "92/92 [==============================] - 22s 243ms/step - loss: 0.2044 - accuracy: 0.9441 - val_loss: 1.1716 - val_accuracy: 0.6332\n",
      "Epoch 10/20\n",
      "92/92 [==============================] - 22s 241ms/step - loss: 0.1342 - accuracy: 0.9700 - val_loss: 1.3417 - val_accuracy: 0.6168\n"
     ]
    }
   ],
   "source": [
    "results = model.fit(train_data_gen, epochs=20,\n",
    "                    validation_data=test_data_gen,\n",
    "                    callbacks=[early_stop])\n"
   ]
  },
  {
   "cell_type": "code",
   "execution_count": 25,
   "metadata": {},
   "outputs": [
    {
     "data": {
      "text/html": [
       "<div>\n",
       "<style scoped>\n",
       "    .dataframe tbody tr th:only-of-type {\n",
       "        vertical-align: middle;\n",
       "    }\n",
       "\n",
       "    .dataframe tbody tr th {\n",
       "        vertical-align: top;\n",
       "    }\n",
       "\n",
       "    .dataframe thead th {\n",
       "        text-align: right;\n",
       "    }\n",
       "</style>\n",
       "<table border=\"1\" class=\"dataframe\">\n",
       "  <thead>\n",
       "    <tr style=\"text-align: right;\">\n",
       "      <th></th>\n",
       "      <th>loss</th>\n",
       "      <th>accuracy</th>\n",
       "      <th>val_loss</th>\n",
       "      <th>val_accuracy</th>\n",
       "    </tr>\n",
       "  </thead>\n",
       "  <tbody>\n",
       "    <tr>\n",
       "      <th>0</th>\n",
       "      <td>1.294926</td>\n",
       "      <td>0.446149</td>\n",
       "      <td>1.173595</td>\n",
       "      <td>0.490489</td>\n",
       "    </tr>\n",
       "    <tr>\n",
       "      <th>1</th>\n",
       "      <td>1.017327</td>\n",
       "      <td>0.614519</td>\n",
       "      <td>1.123296</td>\n",
       "      <td>0.538043</td>\n",
       "    </tr>\n",
       "    <tr>\n",
       "      <th>2</th>\n",
       "      <td>0.868926</td>\n",
       "      <td>0.676892</td>\n",
       "      <td>1.053088</td>\n",
       "      <td>0.562500</td>\n",
       "    </tr>\n",
       "    <tr>\n",
       "      <th>3</th>\n",
       "      <td>0.759372</td>\n",
       "      <td>0.713020</td>\n",
       "      <td>1.054398</td>\n",
       "      <td>0.585598</td>\n",
       "    </tr>\n",
       "    <tr>\n",
       "      <th>4</th>\n",
       "      <td>0.658766</td>\n",
       "      <td>0.758350</td>\n",
       "      <td>1.035701</td>\n",
       "      <td>0.610054</td>\n",
       "    </tr>\n",
       "    <tr>\n",
       "      <th>5</th>\n",
       "      <td>0.503784</td>\n",
       "      <td>0.832311</td>\n",
       "      <td>1.044991</td>\n",
       "      <td>0.634511</td>\n",
       "    </tr>\n",
       "    <tr>\n",
       "      <th>6</th>\n",
       "      <td>0.386081</td>\n",
       "      <td>0.868780</td>\n",
       "      <td>1.084494</td>\n",
       "      <td>0.600543</td>\n",
       "    </tr>\n",
       "    <tr>\n",
       "      <th>7</th>\n",
       "      <td>0.272899</td>\n",
       "      <td>0.920927</td>\n",
       "      <td>1.134962</td>\n",
       "      <td>0.658967</td>\n",
       "    </tr>\n",
       "    <tr>\n",
       "      <th>8</th>\n",
       "      <td>0.204370</td>\n",
       "      <td>0.944104</td>\n",
       "      <td>1.171625</td>\n",
       "      <td>0.633152</td>\n",
       "    </tr>\n",
       "    <tr>\n",
       "      <th>9</th>\n",
       "      <td>0.134173</td>\n",
       "      <td>0.970007</td>\n",
       "      <td>1.341653</td>\n",
       "      <td>0.616848</td>\n",
       "    </tr>\n",
       "  </tbody>\n",
       "</table>\n",
       "</div>"
      ],
      "text/plain": [
       "       loss  accuracy  val_loss  val_accuracy\n",
       "0  1.294926  0.446149  1.173595      0.490489\n",
       "1  1.017327  0.614519  1.123296      0.538043\n",
       "2  0.868926  0.676892  1.053088      0.562500\n",
       "3  0.759372  0.713020  1.054398      0.585598\n",
       "4  0.658766  0.758350  1.035701      0.610054\n",
       "5  0.503784  0.832311  1.044991      0.634511\n",
       "6  0.386081  0.868780  1.084494      0.600543\n",
       "7  0.272899  0.920927  1.134962      0.658967\n",
       "8  0.204370  0.944104  1.171625      0.633152\n",
       "9  0.134173  0.970007  1.341653      0.616848"
      ]
     },
     "execution_count": 25,
     "metadata": {},
     "output_type": "execute_result"
    }
   ],
   "source": [
    "summary = pd.DataFrame(model.history.history)\n",
    "summary.head(10)"
   ]
  },
  {
   "cell_type": "code",
   "execution_count": 26,
   "metadata": {},
   "outputs": [
    {
     "data": {
      "image/png": "[encoded data removed]",
      "text/plain": [
       "<Figure size 1000x600 with 1 Axes>"
      ]
     },
     "metadata": {},
     "output_type": "display_data"
    }
   ],
   "source": [
    "plt.figure(figsize=(10,6))\n",
    "plt.plot(summary.loss, label=\"loss\")\n",
    "plt.plot(summary.val_loss, label=\"val_loss\")\n",
    "plt.legend(loc=\"upper right\")\n",
    "plt.ylabel(\"Loss\")\n",
    "plt.xlabel(\"Epoch\")\n",
    "plt.show()"
   ]
  },
  {
   "cell_type": "code",
   "execution_count": 27,
   "metadata": {},
   "outputs": [
    {
     "data": {
      "image/png": "[encoded data removed]",
      "text/plain": [
       "<Figure size 1000x600 with 1 Axes>"
      ]
     },
     "metadata": {},
     "output_type": "display_data"
    }
   ],
   "source": [
    "plt.figure(figsize=(10,6))\n",
    "plt.plot(summary.accuracy, label=\"accuracy\")\n",
    "plt.plot(summary.val_accuracy, label=\"val_accuracy\")\n",
    "plt.legend(loc=\"upper left\")\n",
    "plt.ylabel(\"Accuracy\")\n",
    "plt.xlabel(\"Epoch\")\n",
    "plt.show()"
   ]
  },
  {
   "cell_type": "code",
   "execution_count": 30,
   "metadata": {},
   "outputs": [
    {
     "name": "stdout",
     "output_type": "stream",
     "text": [
      "92/92 [==============================] - 7s 77ms/step - loss: 0.1075 - accuracy: 0.9761\n"
     ]
    },
    {
     "data": {
      "text/plain": [
       "[0.10748732089996338, 0.9761418104171753]"
      ]
     },
     "execution_count": 30,
     "metadata": {},
     "output_type": "execute_result"
    }
   ],
   "source": [
    "model.evaluate(train_data_gen)"
   ]
  },
  {
   "cell_type": "code",
   "execution_count": 31,
   "metadata": {},
   "outputs": [],
   "source": [
    "model.save('flower_model.h5')"
   ]
  },
  {
   "cell_type": "code",
   "execution_count": 45,
   "metadata": {},
   "outputs": [
    {
     "name": "stdout",
     "output_type": "stream",
     "text": [
      "WARNING:tensorflow:5 out of the last 5 calls to <function Model.make_predict_function.<locals>.predict_function at 0x000001BA075FDA80> triggered tf.function retracing. Tracing is expensive and the excessive number of tracings could be due to (1) creating @tf.function repeatedly in a loop, (2) passing tensors with different shapes, (3) passing Python objects instead of tensors. For (1), please define your @tf.function outside of the loop. For (2), @tf.function has reduce_retracing=True option that can avoid unnecessary retracing. For (3), please refer to https://www.tensorflow.org/guide/function#controlling_retracing and https://www.tensorflow.org/api_docs/python/tf/function for  more details.\n",
      "1/1 [==============================] - 0s 65ms/step\n",
      "Tahmin edilen sınıf: daisy\n"
     ]
    }
   ],
   "source": [
    "import numpy as np\n",
    "import tensorflow as tf\n",
    "from PIL import Image\n",
    "\n",
    "# Modeli yükleyin\n",
    "model = tf.keras.models.load_model('flower_model.h5')\n",
    "\n",
    "# Tahmin edilecek 5 çiçek dosyasının dosya yollarını belirtin\n",
    "flower_files = [\"C:\\\\Users\\\\W10\\Desktop\\\\Yeni klasör\\\\flower_photos\\\\papatya-resmi.webp\"]\n",
    "\n",
    "# Her bir çiçek dosyası için tahmin yapın\n",
    "for file in flower_files:\n",
    "    # Yeni görüntüyü açın ve uygun bir formata dönüştürün\n",
    "    image = Image.open(file)\n",
    "    image = image.resize((120, 120))\n",
    "    image_array = np.array(image.convert('RGB')) / 255.0\n",
    "    image_array = np.expand_dims(image_array,axis= 0)\n",
    "\n",
    "    class_names = ['daisy', 'dandelion', 'roses', 'sunflowers', 'tulips']\n",
    "\n",
    "# Tahmin yapın\n",
    "prediction = model.predict(image_array)\n",
    "predicted_class_index = np.argmax(prediction)\n",
    "predicted_class = class_names[predicted_class_index]\n",
    "\n",
    "print('Tahmin edilen sınıf:', predicted_class)\n",
    "\n"
   ]
  },
  {
   "cell_type": "code",
   "execution_count": 46,
   "metadata": {},
   "outputs": [
    {
     "name": "stdout",
     "output_type": "stream",
     "text": [
      "WARNING:tensorflow:6 out of the last 6 calls to <function Model.make_predict_function.<locals>.predict_function at 0x000001BA075FF380> triggered tf.function retracing. Tracing is expensive and the excessive number of tracings could be due to (1) creating @tf.function repeatedly in a loop, (2) passing tensors with different shapes, (3) passing Python objects instead of tensors. For (1), please define your @tf.function outside of the loop. For (2), @tf.function has reduce_retracing=True option that can avoid unnecessary retracing. For (3), please refer to https://www.tensorflow.org/guide/function#controlling_retracing and https://www.tensorflow.org/api_docs/python/tf/function for  more details.\n",
      "1/1 [==============================] - 0s 68ms/step\n",
      "Tahmin edilen sınıf: tulips\n"
     ]
    }
   ],
   "source": [
    "import numpy as np\n",
    "import tensorflow as tf\n",
    "from PIL import Image\n",
    "\n",
    "# Modeli yükleyin\n",
    "model = tf.keras.models.load_model('flower_model.h5')\n",
    "\n",
    "# Tahmin edilecek 5 çiçek dosyasının dosya yollarını belirtin\n",
    "flower_files = [\"C:\\\\Users\\\\W10\\Desktop\\\\Yeni klasör\\\\flower_photos\\\\lale-resmi.jpg\"]\n",
    "\n",
    "# Her bir çiçek dosyası için tahmin yapın\n",
    "for file in flower_files:\n",
    "    # Yeni görüntüyü açın ve uygun bir formata dönüştürün\n",
    "    image = Image.open(file)\n",
    "    image = image.resize((120, 120))\n",
    "    image_array = np.array(image.convert('RGB')) / 255.0\n",
    "    image_array = np.expand_dims(image_array,axis= 0)\n",
    "\n",
    "    class_names = ['daisy', 'dandelion', 'roses', 'sunflowers', 'tulips']\n",
    "\n",
    "# Tahmin yapın\n",
    "prediction = model.predict(image_array)\n",
    "predicted_class_index = np.argmax(prediction)\n",
    "predicted_class = class_names[predicted_class_index]\n",
    "\n",
    "print('Tahmin edilen sınıf:', predicted_class)"
   ]
  },
  {
   "cell_type": "code",
   "execution_count": null,
   "metadata": {},
   "outputs": [],
   "source": []
  },
  {
   "cell_type": "code",
   "execution_count": null,
   "metadata": {},
   "outputs": [],
   "source": []
  }
 ],
 "metadata": {
  "kernelspec": {
   "display_name": "Python 3",
   "language": "python",
   "name": "python3"
  },
  "language_info": {
   "codemirror_mode": {
    "name": "ipython",
    "version": 3
   },
   "file_extension": ".py",
   "mimetype": "text/x-python",
   "name": "python",
   "nbconvert_exporter": "python",
   "pygments_lexer": "ipython3",
   "version": "3.11.3"
  },
  "orig_nbformat": 4
 },
 "nbformat": 4,
 "nbformat_minor": 2
}
